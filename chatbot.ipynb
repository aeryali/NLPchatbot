{
 "cells": [
  {
   "cell_type": "markdown",
   "id": "a59c38f4-cb3e-476f-8080-460f68b59e8c",
   "metadata": {},
   "source": [
    "# NLP Chatbot"
   ]
  },
  {
   "cell_type": "markdown",
   "id": "e8687669-9e24-4e00-b493-8dc2526f11ec",
   "metadata": {},
   "source": [
    "Alisha Aery"
   ]
  },
  {
   "cell_type": "markdown",
   "id": "a47e63f5-066e-4399-bddf-34edb83b8022",
   "metadata": {},
   "source": [
    "Data: https://www.kaggle.com/ananthu017/squad-csv-format?select=SQuAD_csv.csv"
   ]
  },
  {
   "cell_type": "markdown",
   "id": "c8d9de9c-cebd-4df0-93ef-c74be5d5bb33",
   "metadata": {},
   "source": [
    "## Import Libraries and Upload Data"
   ]
  },
  {
   "cell_type": "code",
   "execution_count": 1,
   "id": "8f99bae0-cdb9-4798-8368-e6637decf24b",
   "metadata": {},
   "outputs": [],
   "source": [
    "#import libararies\n",
    "import io\n",
    "import random\n",
    "import string # to process standard python strings\n",
    "import warnings\n",
    "import numpy as np\n",
    "from sklearn.feature_extraction.text import TfidfVectorizer\n",
    "from sklearn.metrics.pairwise import cosine_similarity\n",
    "import warnings\n",
    "warnings.filterwarnings('ignore')\n",
    "import nltk\n",
    "from nltk.stem import WordNetLemmatizer\n",
    "nltk.download('popular', quiet=True) \n",
    "import pandas as pd\n",
    "\n",
    "#upload data\n",
    "data=pd.read_csv('SQuAD_csv.csv')\n",
    "question=data['question'].tolist()\n",
    "answer=data['text'].tolist()\n"
   ]
  },
  {
   "cell_type": "markdown",
   "id": "ed1270e3-18ce-4db9-bd63-8684bbb7214b",
   "metadata": {},
   "source": [
    "## Preprocessing"
   ]
  },
  {
   "cell_type": "code",
   "execution_count": 2,
   "id": "6f18fb91-7e76-4150-8670-9731cd104ea2",
   "metadata": {
    "tags": []
   },
   "outputs": [],
   "source": [
    "#initiate lemmetizer\n",
    "lem = nltk.stem.WordNetLemmatizer()\n",
    "\n",
    "#lemmatize, lowercase, remove punctuation and tokenize words    \n",
    "def ConverttoTokens(tokens):\n",
    "    return [lem.lemmatize(token) for token in tokens]\n",
    "newdict = dict((ord(punctuation), None) for punctuation in string.punctuation)\n",
    "\n",
    "def Normalize(list):\n",
    "    return ConverttoTokens(nltk.word_tokenize(list.lower().translate(newdict)))\n"
   ]
  },
  {
   "cell_type": "markdown",
   "id": "760296dc-6f33-4f2f-96a3-72351c59c426",
   "metadata": {},
   "source": [
    "## Feature Extraction and \"Training\""
   ]
  },
  {
   "cell_type": "code",
   "execution_count": 3,
   "id": "14a774ee-a34d-4706-a561-a121d14024f9",
   "metadata": {},
   "outputs": [],
   "source": [
    "#function to find reply\n",
    "def reply(user):\n",
    "    reply=''\n",
    "    question.append(user)\n",
    "    #feature extraction\n",
    "    TfidfV = TfidfVectorizer(tokenizer=Normalize, stop_words='english')\n",
    "    tfidf_trans = TfidfV.fit_transform(question)\n",
    "    \n",
    "    #\"training\"\n",
    "    value = cosine_similarity(tfidf_trans[-1], tfidf_trans)\n",
    "    id=value.argsort()[0][-2]\n",
    "    flatval = value.flatten()\n",
    "    flatval.sort()\n",
    "    num = flatval[-2]\n",
    "     \n",
    "    #generate reply\n",
    "    if(num==0):\n",
    "        reply=reply+\"I am sorry! Can you please rephrase your question?\"\n",
    "        return reply\n",
    "    else:\n",
    "        reply = reply+answer[id]\n",
    "        question.remove(user)\n",
    "        return reply"
   ]
  },
  {
   "cell_type": "markdown",
   "id": "36b17055-5b36-414a-81fe-fa98b05b2c37",
   "metadata": {},
   "source": [
    "## Evaluation"
   ]
  },
  {
   "cell_type": "code",
   "execution_count": 8,
   "id": "d43cec3b-b082-4ca3-a4c7-f3ea67d42050",
   "metadata": {},
   "outputs": [
    {
     "name": "stdin",
     "output_type": "stream",
     "text": [
      "Enter your value:  hi\n"
     ]
    },
    {
     "name": "stdout",
     "output_type": "stream",
     "text": [
      "hi, what question can i help you answer\n"
     ]
    },
    {
     "name": "stdin",
     "output_type": "stream",
     "text": [
      "Enter your value:  In what city and state did Beyonce grow up\n"
     ]
    },
    {
     "name": "stdout",
     "output_type": "stream",
     "text": [
      "Houston, Texas\n"
     ]
    },
    {
     "name": "stdin",
     "output_type": "stream",
     "text": [
      "Enter your value:  When did Beyonce get married\n"
     ]
    },
    {
     "name": "stdout",
     "output_type": "stream",
     "text": [
      "Jay Z\n"
     ]
    },
    {
     "name": "stdin",
     "output_type": "stream",
     "text": [
      "Enter your value:  exit\n"
     ]
    }
   ],
   "source": [
    "#while loop to answer user's questions\n",
    "command=1\n",
    "while(command):\n",
    "    userinput = input(\"Enter your value: \") \n",
    "    if(userinput==\"exit\"):\n",
    "        command=0\n",
    "        break\n",
    "    greet = [\"hello\", \"hi\", \"hey\", \"what's up\"]\n",
    "    if str(userinput) == \"how are you\":\n",
    "        print(\"good, hope you are well! what question can i help you answer\")\n",
    "    if str(userinput) in greet:\n",
    "        print(\"hi, what question can i help you answer\")\n",
    "        \n",
    "    else:\n",
    "        print(reply(str(userinput))) "
   ]
  },
  {
   "cell_type": "code",
   "execution_count": null,
   "id": "28daf2a8-ce83-4b22-b6af-b53907ed3006",
   "metadata": {},
   "outputs": [],
   "source": []
  }
 ],
 "metadata": {
  "kernelspec": {
   "display_name": "Python 3",
   "language": "python",
   "name": "python3"
  },
  "language_info": {
   "codemirror_mode": {
    "name": "ipython",
    "version": 3
   },
   "file_extension": ".py",
   "mimetype": "text/x-python",
   "name": "python",
   "nbconvert_exporter": "python",
   "pygments_lexer": "ipython3",
   "version": "3.8.8"
  }
 },
 "nbformat": 4,
 "nbformat_minor": 5
}
